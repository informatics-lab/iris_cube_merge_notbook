{
 "cells": [
  {
   "cell_type": "code",
   "execution_count": 1,
   "metadata": {
    "collapsed": false
   },
   "outputs": [
    {
     "name": "stdout",
     "output_type": "stream",
     "text": [
      "Requirement already satisfied (use --upgrade to upgrade): boto in /opt/conda/lib/python3.5/site-packages\n",
      "\u001b[33mYou are using pip version 8.1.2, however version 9.0.1 is available.\n",
      "You should consider upgrading via the 'pip install --upgrade pip' command.\u001b[0m\n",
      "Collecting git+git://github.com/met-office-lab/asn_data_utils.git\n",
      "  Cloning git://github.com/met-office-lab/asn_data_utils.git to /tmp/pip-u1qlw9nm-build\n",
      "  Requirement already satisfied (use --upgrade to upgrade): asn-utils==1.0.0 from git+git://github.com/met-office-lab/asn_data_utils.git in /opt/conda/lib/python3.5/site-packages\n",
      "Requirement already satisfied (use --upgrade to upgrade): s3fs in /opt/conda/lib/python3.5/site-packages (from asn-utils==1.0.0)\n",
      "Requirement already satisfied (use --upgrade to upgrade): boto3 in /opt/conda/lib/python3.5/site-packages (from s3fs->asn-utils==1.0.0)\n",
      "Requirement already satisfied (use --upgrade to upgrade): botocore<1.5.0,>=1.4.1 in /opt/conda/lib/python3.5/site-packages (from boto3->s3fs->asn-utils==1.0.0)\n",
      "Requirement already satisfied (use --upgrade to upgrade): jmespath<1.0.0,>=0.7.1 in /opt/conda/lib/python3.5/site-packages (from boto3->s3fs->asn-utils==1.0.0)\n",
      "Requirement already satisfied (use --upgrade to upgrade): s3transfer<0.2.0,>=0.1.0 in /opt/conda/lib/python3.5/site-packages (from boto3->s3fs->asn-utils==1.0.0)\n",
      "Requirement already satisfied (use --upgrade to upgrade): python-dateutil<3.0.0,>=2.1 in /opt/conda/lib/python3.5/site-packages (from botocore<1.5.0,>=1.4.1->boto3->s3fs->asn-utils==1.0.0)\n",
      "Requirement already satisfied (use --upgrade to upgrade): docutils>=0.10 in /opt/conda/lib/python3.5/site-packages (from botocore<1.5.0,>=1.4.1->boto3->s3fs->asn-utils==1.0.0)\n",
      "Requirement already satisfied (use --upgrade to upgrade): six>=1.5 in /opt/conda/lib/python3.5/site-packages (from python-dateutil<3.0.0,>=2.1->botocore<1.5.0,>=1.4.1->boto3->s3fs->asn-utils==1.0.0)\n",
      "\u001b[33mYou are using pip version 8.1.2, however version 9.0.1 is available.\n",
      "You should consider upgrading via the 'pip install --upgrade pip' command.\u001b[0m\n"
     ]
    }
   ],
   "source": [
    "!pip install boto\n",
    "!pip install git+git://github.com/met-office-lab/asn_data_utils.git"
   ]
  },
  {
   "cell_type": "code",
   "execution_count": null,
   "metadata": {
    "collapsed": true
   },
   "outputs": [],
   "source": []
  },
  {
   "cell_type": "code",
   "execution_count": 1,
   "metadata": {
    "collapsed": true
   },
   "outputs": [],
   "source": [
    "import iris\n",
    "from asn_utils.Loader import Loader\n",
    "from functools import reduce\n",
    "from collections import Counter\n",
    "import numpy as np"
   ]
  },
  {
   "cell_type": "code",
   "execution_count": 2,
   "metadata": {
    "collapsed": false
   },
   "outputs": [],
   "source": [
    "myloader = Loader()\n",
    "fs = myloader.list_files(\"mogreps\")[:5]"
   ]
  },
  {
   "cell_type": "code",
   "execution_count": 3,
   "metadata": {
    "collapsed": false
   },
   "outputs": [
    {
     "data": {
      "text/plain": [
       "['/usr/local/share/notebooks/data/mogreps/201612/prods_op_mogreps-g_20161203_00_00_003.pp',\n",
       " '/usr/local/share/notebooks/data/mogreps/201612/prods_op_mogreps-g_20161203_00_00_006.pp',\n",
       " '/usr/local/share/notebooks/data/mogreps/201612/prods_op_mogreps-g_20161203_00_00_009.pp',\n",
       " '/usr/local/share/notebooks/data/mogreps/201612/prods_op_mogreps-g_20161203_00_00_012.pp',\n",
       " '/usr/local/share/notebooks/data/mogreps/201612/prods_op_mogreps-g_20161203_00_00_015.pp']"
      ]
     },
     "execution_count": 3,
     "metadata": {},
     "output_type": "execute_result"
    }
   ],
   "source": [
    "fs"
   ]
  },
  {
   "cell_type": "code",
   "execution_count": 4,
   "metadata": {
    "collapsed": true
   },
   "outputs": [],
   "source": [
    "draw = iris.load_raw(fs[0], 'wet_bulb_potential_temperature')"
   ]
  },
  {
   "cell_type": "code",
   "execution_count": 5,
   "metadata": {
    "collapsed": false
   },
   "outputs": [
    {
     "name": "stdout",
     "output_type": "stream",
     "text": [
      "0: wet_bulb_potential_temperature / (K) (latitude: 600; longitude: 800)\n",
      "1: wet_bulb_potential_temperature / (K) (latitude: 600; longitude: 800)\n",
      "2: wet_bulb_potential_temperature / (K) (latitude: 600; longitude: 800)\n",
      "3: wet_bulb_potential_temperature / (K) (latitude: 600; longitude: 800)\n",
      "4: wet_bulb_potential_temperature / (K) (latitude: 600; longitude: 800)\n",
      "5: wet_bulb_potential_temperature / (K) (latitude: 600; longitude: 800)\n"
     ]
    }
   ],
   "source": [
    "print(draw)"
   ]
  },
  {
   "cell_type": "code",
   "execution_count": 6,
   "metadata": {
    "collapsed": false
   },
   "outputs": [],
   "source": [
    "merged = draw.merge_cube()"
   ]
  },
  {
   "cell_type": "code",
   "execution_count": 7,
   "metadata": {
    "collapsed": false
   },
   "outputs": [
    {
     "name": "stdout",
     "output_type": "stream",
     "text": [
      "wet_bulb_potential_temperature / (K) (time: 2; pressure: 3; latitude: 600; longitude: 800)\n",
      "     Dimension coordinates:\n",
      "          time                            x            -            -               -\n",
      "          pressure                        -            x            -               -\n",
      "          latitude                        -            -            x               -\n",
      "          longitude                       -            -            -               x\n",
      "     Auxiliary coordinates:\n",
      "          forecast_period                 x            -            -               -\n",
      "     Scalar coordinates:\n",
      "          forecast_reference_time: 2016-12-03 00:00:00\n",
      "     Attributes:\n",
      "          STASH: m01s16i205\n",
      "          source: Data from Met Office Unified Model\n",
      "          um_version: 10.4\n"
     ]
    }
   ],
   "source": [
    "print(merged)"
   ]
  },
  {
   "cell_type": "code",
   "execution_count": 8,
   "metadata": {
    "collapsed": false
   },
   "outputs": [],
   "source": [
    "subd = draw[:-1]"
   ]
  },
  {
   "cell_type": "code",
   "execution_count": 9,
   "metadata": {
    "collapsed": false
   },
   "outputs": [
    {
     "data": {
      "text/plain": [
       "[<iris 'Cube' of wet_bulb_potential_temperature / (K) (-- : 5; latitude: 600; longitude: 800)>]"
      ]
     },
     "execution_count": 9,
     "metadata": {},
     "output_type": "execute_result"
    }
   ],
   "source": [
    "subd.merge()"
   ]
  },
  {
   "cell_type": "code",
   "execution_count": 10,
   "metadata": {
    "collapsed": true
   },
   "outputs": [],
   "source": [
    "acoord = merged.coord('pressure')"
   ]
  },
  {
   "cell_type": "code",
   "execution_count": 11,
   "metadata": {
    "collapsed": false
   },
   "outputs": [],
   "source": [
    "# def magic_subset_merge(cube_list, DimCoords):\n",
    "#     return extract_overlapping(cube_list, DimCoords).merge_cube()"
   ]
  },
  {
   "cell_type": "code",
   "execution_count": 12,
   "metadata": {
    "collapsed": false
   },
   "outputs": [],
   "source": [
    "#magic_subset_merge(subd, [\"latitude\", \"longitude\", \"time\", \"pressure\"])"
   ]
  },
  {
   "cell_type": "code",
   "execution_count": 16,
   "metadata": {
    "collapsed": false
   },
   "outputs": [
    {
     "name": "stdout",
     "output_type": "stream",
     "text": [
      "False\n"
     ]
    }
   ],
   "source": [
    "draw\n",
    "\n",
    "lon_0 = draw[0].coord('longitude')\n",
    "lat_0 = draw[0].coord('latitude')\n",
    "lat_1 = draw[1].coord('latitude')\n",
    "lat_2 = draw[2].coord('latitude')\n",
    "pres_0 = draw[0].coord('pressure')\n",
    "pres_1 = draw[1].coord('pressure')\n",
    "lat_3 = draw[3].coord('latitude')\n",
    "lon_1 = draw[1].coord('longitude')\n",
    "\n",
    "\n",
    "as_list = [lon_0, lat_0, lat_1, lat_2, pres_0, pres_1, lat_3, lon_1]\n",
    "as_list_rep = [0,1,1,1,2,3,1,0]\n",
    "as_set = set(as_list)\n",
    "\n",
    "len(as_set)\n",
    "\n",
    "c = Counter(as_list)\n",
    "\n",
    "len(c) #This shows that set and collections.Counter both use __hash__ and not __equ__ for compairing items.\n",
    "\n",
    "print(pres_0 == pres_1)"
   ]
  },
  {
   "cell_type": "code",
   "execution_count": 67,
   "metadata": {
    "collapsed": false
   },
   "outputs": [
    {
     "name": "stdout",
     "output_type": "stream",
     "text": [
      "[0, 1, 1, 1, 2, 3, 1, 0]\n",
      "-- [1 2 3 4 5 6]\n",
      "-- [3 4 6]\n",
      "-- [1 2 3]\n",
      "-- [1 2]\n"
     ]
    },
    {
     "data": {
      "text/plain": [
       "dict_values([2, 4, 1, 1])"
      ]
     },
     "execution_count": 67,
     "metadata": {},
     "output_type": "execute_result"
    }
   ],
   "source": [
    "def sort_and_unique_cells(items):\n",
    "    sorted_items = sorted(items, key=attrgetter('val'))\n",
    "    return [sorted_items[0]] + [sorted_items[i + 1] for i in range(len(sorted_items) -1) if not sorted_items[i + 1] == sorted_items[i] ]\n",
    "\n",
    "def get_unique_dims(all_dims):\n",
    "    \"\"\"\n",
    "    Takes a list of dims and returns a dict:\n",
    "    \n",
    "    {dim:count}\n",
    "    \n",
    "    \"\"\"\n",
    "    all_dims = np.array(all_dims, dtype=object)\n",
    "    i = 0\n",
    "    dim_set = {}\n",
    "    while i < len(all_dims):\n",
    "        \n",
    "        dim = all_dims[i]\n",
    "        \n",
    "        if any(dim == other_dim for other_dim in dim_set.keys()): \n",
    "            i += 1 # If we've seen this dim before contiune\n",
    "            continue\n",
    "        else:\n",
    "            dim_set[dim] = 0 # Else add it to our set. Add it with count 0 as we will perform the count next.\n",
    "            \n",
    "        matches = (dim == all_dims)\n",
    "        dim_set[dim] = np.where(matches)[0].shape[0] # Count the occurances of this dimention. \n",
    "        # Looking forward in the list of dimentions are there any other dims that don't match\n",
    "        idx_of_forward_non_matches = np.where(matches[i:] == False)[0] \n",
    "        print('--',idx_of_forward_non_matches) # indexes of non matches with current dim offset by current posision. \n",
    "        \n",
    "        \n",
    "        if not len(idx_of_forward_non_matches):\n",
    "            break; # We've found all dims. Break.\n",
    "            \n",
    "        # If there are non-matches continue our search from the first location of a non match.\n",
    "        i = (idx_of_forward_non_matches[0] + i)\n",
    "    return dim_set\n",
    "    \n",
    "print(as_list_rep)\n",
    "\n",
    "(count_unique_dims(as_list)).values()"
   ]
  },
  {
   "cell_type": "code",
   "execution_count": 63,
   "metadata": {
    "collapsed": false
   },
   "outputs": [
    {
     "data": {
      "text/plain": [
       "DimCoord(array([ 850.,  500.], dtype=float32), standard_name=None, units=Unit('hPa'), long_name='pressure')"
      ]
     },
     "execution_count": 63,
     "metadata": {},
     "output_type": "execute_result"
    }
   ],
   "source": [
    "\"\"\"class iris.coords.Coord(points, standard_name=None, long_name=None, var_name=None, units='1', bounds=None, attributes=None, coord_system=None)\n",
    "\"\"\"\n",
    "p0 = draw[0].coord('pressure')\n",
    "p1 = draw[1].coord('pressure')\n",
    "\n",
    "#iris.coords.DimCoord(list(p0.cells()) + list(p0.cells()))\n",
    "\n",
    "list(p0.cells())+ list(p1.cells())\n",
    "list(p0.cells())[0].bound\n",
    "\n",
    "\n",
    "dims = [p0, p1]\n",
    "\n",
    "def dim_list_to_single_dim(dim_list):\n",
    "    def to_points_and_bounds(list_of_dims):\n",
    "        points, bounds = list(zip(*[(item.point, item.bound) for sublist in [list(p.cells()) for p in list_of_dims] for item in sublist]))\n",
    "        return points, bounds\n",
    "\n",
    "    eg_dim = dim_list[0]\n",
    "    points, bounds = to_points_and_bounds(dim_list)\n",
    "    bounds = bounds if all(bounds) else None\n",
    "    new_dim = iris.coords.DimCoord(points=points, bounds=bounds,\n",
    "                         standard_name=eg_dim.standard_name, units=eg_dim.units,\n",
    "                         long_name=eg_dim.long_name, attributes=eg_dim.attributes,\n",
    "                         coord_system=eg_dim.coord_system, circular = eg_dim.circular,\n",
    "                        var_name = eg_dim.var_name)\n",
    "    return new_dim\n",
    "\n",
    "dim_list_to_single_dim(dims)"
   ]
  },
  {
   "cell_type": "markdown",
   "metadata": {},
   "source": [
    "This shows that `set` and `collections.Counter` both use `__hash__` and not `__equ__` for compairing items."
   ]
  },
  {
   "cell_type": "code",
   "execution_count": null,
   "metadata": {
    "collapsed": false
   },
   "outputs": [],
   "source": [
    "\n",
    "cds = [acoord[0], acoord[0], acoord[1]]"
   ]
  },
  {
   "cell_type": "code",
   "execution_count": 18,
   "metadata": {
    "collapsed": false
   },
   "outputs": [
    {
     "ename": "NameError",
     "evalue": "name 'sort' is not defined",
     "output_type": "error",
     "traceback": [
      "\u001b[0;31m---------------------------------------------------------------------------\u001b[0m",
      "\u001b[0;31mNameError\u001b[0m                                 Traceback (most recent call last)",
      "\u001b[0;32m<ipython-input-18-a3f1e669b165>\u001b[0m in \u001b[0;36m<module>\u001b[0;34m()\u001b[0m\n\u001b[0;32m----> 1\u001b[0;31m \u001b[0msort\u001b[0m\u001b[0;34m(\u001b[0m\u001b[0mcds\u001b[0m\u001b[0;34m,\u001b[0m \u001b[0mkey\u001b[0m\u001b[0;34m=\u001b[0m\u001b[0;32mlambda\u001b[0m \u001b[0ma\u001b[0m\u001b[0;34m,\u001b[0m \u001b[0mb\u001b[0m\u001b[0;34m:\u001b[0m \u001b[0ma\u001b[0m\u001b[0;34m.\u001b[0m\u001b[0mpoints\u001b[0m\u001b[0;34m[\u001b[0m\u001b[0;36m0\u001b[0m\u001b[0;34m]\u001b[0m \u001b[0;34m>\u001b[0m \u001b[0mb\u001b[0m\u001b[0;34m.\u001b[0m\u001b[0mpoints\u001b[0m\u001b[0;34m[\u001b[0m\u001b[0;36m0\u001b[0m\u001b[0;34m]\u001b[0m\u001b[0;34m)\u001b[0m\u001b[0;34m\u001b[0m\u001b[0m\n\u001b[0m",
      "\u001b[0;31mNameError\u001b[0m: name 'sort' is not defined"
     ]
    }
   ],
   "source": [
    "sort(cds, key=lambda a, b: a.points[0] > b.points[0])"
   ]
  },
  {
   "cell_type": "code",
   "execution_count": 77,
   "metadata": {
    "collapsed": true
   },
   "outputs": [],
   "source": [
    " def extract_overlapping(cl, coord_names):\n",
    "        \"\"\"\n",
    "        Returns a :class:`CubeList` of cubes extracted over regions\n",
    "        where they coordinates overlap, for the coordinates\n",
    "        in coord_names\n",
    "\n",
    "        Args:\n",
    "\n",
    "        * coord_names:\n",
    "           A string or list of strings of the names of the coordinates\n",
    "           over which to perform the extraction.\n",
    "\n",
    "        \"\"\"\n",
    "        print(\".\")\n",
    "        if type(coord_names) is str:\n",
    "            coord_names = [coord_names]\n",
    "\n",
    "        def make_overlap_fn(coord_name):\n",
    "            def overlap_fn(cell):\n",
    "                return all(cell in cube.coord(coord_name).cells()\n",
    "                            for cube in cl)\n",
    "            return overlap_fn\n",
    " \n",
    "        \n",
    "        new_coords = []\n",
    "        for coord_name in coord_names:\n",
    "            uniq_dims = get_unique_dims([cube.coord(coord_name) for cube in cl])\n",
    "            #coords_are_equal = all(cl[0].coord(coord_name) == cube.coord(coord_name) for cube in cl)\n",
    "            if len(uniq_dims) == 0:\n",
    "                print(coord_name)\n",
    "                new_coords.append(uniq_dims.keys()[0])\n",
    "            else:\n",
    "                dims = list(uniq_dims.keys())\n",
    "                as_sigle_dim = dim_list_to_single_dim(dims)\n",
    "                new_coords.append(as_sigle_dim)\n",
    "        return new_coords"
   ]
  },
  {
   "cell_type": "code",
   "execution_count": 78,
   "metadata": {
    "collapsed": false
   },
   "outputs": [
    {
     "name": "stdout",
     "output_type": "stream",
     "text": [
      ".\n",
      "-- []\n",
      "-- []\n",
      "-- [3 4]\n",
      "-- []\n",
      "-- [1 2 4]\n",
      "-- [1 2]\n",
      "-- [1 2]\n"
     ]
    },
    {
     "data": {
      "text/plain": [
       "[DimCoord(array([-89.84999847, -89.54999542, -89.25      , -88.94999695,\n",
       "        -88.65000153, -88.34999847, -88.04999542, -87.75      ,\n",
       "        -87.44999695, -87.15000153, -86.84999847, -86.54999542,\n",
       "        -86.25      , -85.94999695, -85.65000153, -85.34999847,\n",
       "        -85.04999542, -84.75      , -84.44999695, -84.15000153,\n",
       "        -83.84999847, -83.54999542, -83.25      , -82.94999695,\n",
       "        -82.65000153, -82.34999847, -82.04999542, -81.75      ,\n",
       "        -81.44999695, -81.1499939 , -80.84999847, -80.54999542,\n",
       "        -80.25      , -79.94999695, -79.6499939 , -79.34999847,\n",
       "        -79.04999542, -78.75      , -78.44999695, -78.1499939 ,\n",
       "        -77.84999847, -77.54999542, -77.25      , -76.94999695,\n",
       "        -76.6499939 , -76.34999847, -76.04999542, -75.75      ,\n",
       "        -75.44999695, -75.1499939 , -74.84999847, -74.54999542,\n",
       "        -74.25      , -73.94999695, -73.6499939 , -73.34999847,\n",
       "        -73.04999542, -72.75      , -72.44999695, -72.1499939 ,\n",
       "        -71.84999847, -71.54999542, -71.25      , -70.94999695,\n",
       "        -70.6499939 , -70.34999847, -70.04999542, -69.75      ,\n",
       "        -69.44999695, -69.1499939 , -68.84999847, -68.54999542,\n",
       "        -68.25      , -67.94999695, -67.6499939 , -67.34999847,\n",
       "        -67.04999542, -66.75      , -66.44999695, -66.1499939 ,\n",
       "        -65.84999847, -65.54999542, -65.25      , -64.94999695,\n",
       "        -64.6499939 , -64.34999847, -64.04999542, -63.75      ,\n",
       "        -63.44999695, -63.14999771, -62.84999847, -62.54999542,\n",
       "        -62.25      , -61.94999695, -61.64999771, -61.34999847,\n",
       "        -61.04999542, -60.75      , -60.44999695, -60.14999771,\n",
       "        -59.84999847, -59.54999542, -59.25      , -58.94999695,\n",
       "        -58.64999771, -58.34999847, -58.04999542, -57.74999619,\n",
       "        -57.44999695, -57.14999771, -56.84999847, -56.54999542,\n",
       "        -56.24999619, -55.94999695, -55.64999771, -55.34999847,\n",
       "        -55.04999542, -54.74999619, -54.44999695, -54.14999771,\n",
       "        -53.84999847, -53.54999542, -53.24999619, -52.94999695,\n",
       "        -52.64999771, -52.34999847, -52.04999542, -51.74999619,\n",
       "        -51.44999695, -51.14999771, -50.84999847, -50.54999542,\n",
       "        -50.24999619, -49.94999695, -49.64999771, -49.34999847,\n",
       "        -49.04999542, -48.74999619, -48.44999695, -48.14999771,\n",
       "        -47.84999847, -47.54999542, -47.24999619, -46.94999695,\n",
       "        -46.64999771, -46.34999847, -46.04999542, -45.74999619,\n",
       "        -45.44999695, -45.14999771, -44.84999847, -44.54999542,\n",
       "        -44.24999619, -43.94999695, -43.64999771, -43.34999847,\n",
       "        -43.04999542, -42.74999619, -42.44999695, -42.14999771,\n",
       "        -41.84999847, -41.54999542, -41.24999619, -40.94999695,\n",
       "        -40.64999771, -40.34999466, -40.04999542, -39.74999619,\n",
       "        -39.44999695, -39.14999771, -38.84999466, -38.54999542,\n",
       "        -38.24999619, -37.94999695, -37.64999771, -37.34999466,\n",
       "        -37.04999542, -36.74999619, -36.44999695, -36.14999771,\n",
       "        -35.84999466, -35.54999542, -35.24999619, -34.94999695,\n",
       "        -34.64999771, -34.34999466, -34.04999542, -33.74999619,\n",
       "        -33.44999695, -33.14999771, -32.84999466, -32.54999542,\n",
       "        -32.24999619, -31.94999695, -31.64999771, -31.34999466,\n",
       "        -31.04999542, -30.74999619, -30.44999695, -30.14999771,\n",
       "        -29.84999466, -29.54999542, -29.24999619, -28.94999695,\n",
       "        -28.64999771, -28.34999466, -28.04999542, -27.74999619,\n",
       "        -27.44999695, -27.14999771, -26.84999466, -26.54999542,\n",
       "        -26.24999619, -25.94999695, -25.6499939 , -25.34999847,\n",
       "        -25.04999542, -24.74999237, -24.44999695, -24.1499939 ,\n",
       "        -23.84999847, -23.54999542, -23.24999237, -22.94999695,\n",
       "        -22.6499939 , -22.34999847, -22.04999542, -21.74999237,\n",
       "        -21.44999695, -21.1499939 , -20.84999847, -20.54999542,\n",
       "        -20.24999237, -19.94999695, -19.6499939 , -19.34999847,\n",
       "        -19.04999542, -18.74999237, -18.44999695, -18.1499939 ,\n",
       "        -17.84999847, -17.54999542, -17.24999237, -16.94999695,\n",
       "        -16.6499939 , -16.34999847, -16.04999542, -15.74999237,\n",
       "        -15.44999695, -15.1499939 , -14.84999847, -14.54999542,\n",
       "        -14.24999237, -13.94999695, -13.6499939 , -13.34999847,\n",
       "        -13.04999542, -12.74999237, -12.44999695, -12.1499939 ,\n",
       "        -11.84999847, -11.54999542, -11.24999237, -10.94999695,\n",
       "        -10.6499939 , -10.34999847, -10.04999542,  -9.74999237,\n",
       "         -9.44999695,  -9.1499939 ,  -8.84999847,  -8.54999542,\n",
       "         -8.24999237,  -7.94999695,  -7.6499939 ,  -7.34999847,\n",
       "         -7.04999542,  -6.74999237,  -6.44999695,  -6.1499939 ,\n",
       "         -5.84999847,  -5.54999542,  -5.24999237,  -4.94999695,\n",
       "         -4.6499939 ,  -4.34999847,  -4.04999542,  -3.74999237,\n",
       "         -3.44999695,  -3.1499939 ,  -2.84999847,  -2.54999542,\n",
       "         -2.24999237,  -1.94999695,  -1.6499939 ,  -1.34999847,\n",
       "         -1.04999542,  -0.74999237,  -0.44999695,  -0.1499939 ,\n",
       "          0.15000153,   0.45000458,   0.75000763,   1.05000305,\n",
       "          1.3500061 ,   1.65000153,   1.95000458,   2.25000763,\n",
       "          2.55000305,   2.8500061 ,   3.15000153,   3.45000458,\n",
       "          3.75000763,   4.05000305,   4.3500061 ,   4.65000153,\n",
       "          4.95000458,   5.25000763,   5.55000305,   5.8500061 ,\n",
       "          6.15000153,   6.45000458,   6.75000763,   7.05000305,\n",
       "          7.3500061 ,   7.65000916,   7.95000458,   8.25000763,\n",
       "          8.55000305,   8.8500061 ,   9.15000916,   9.45000458,\n",
       "          9.75000763,  10.05000305,  10.3500061 ,  10.65000916,\n",
       "         10.95000458,  11.25000763,  11.55000305,  11.8500061 ,\n",
       "         12.15000916,  12.45000458,  12.75000763,  13.05000305,\n",
       "         13.3500061 ,  13.65000916,  13.95000458,  14.25000763,\n",
       "         14.55000305,  14.8500061 ,  15.15000916,  15.45000458,\n",
       "         15.75000763,  16.05000305,  16.3500061 ,  16.65000916,\n",
       "         16.95000458,  17.25000763,  17.55000305,  17.8500061 ,\n",
       "         18.15000916,  18.45000458,  18.75000763,  19.05000305,\n",
       "         19.3500061 ,  19.65000916,  19.95000458,  20.25000763,\n",
       "         20.55000305,  20.8500061 ,  21.15000916,  21.45000458,\n",
       "         21.75000763,  22.05000305,  22.3500061 ,  22.65000916,\n",
       "         22.95000458,  23.25000763,  23.55000305,  23.8500061 ,\n",
       "         24.15000916,  24.45000458,  24.75000763,  25.05000305,\n",
       "         25.3500061 ,  25.65000916,  25.95000458,  26.25000763,\n",
       "         26.55000305,  26.8500061 ,  27.15000916,  27.45000458,\n",
       "         27.75000763,  28.05000305,  28.3500061 ,  28.65000916,\n",
       "         28.95000458,  29.25000763,  29.55000305,  29.8500061 ,\n",
       "         30.15000916,  30.45000458,  30.75000763,  31.05000305,\n",
       "         31.3500061 ,  31.65000916,  31.95000458,  32.25000763,\n",
       "         32.55000305,  32.8500061 ,  33.15000916,  33.45000458,\n",
       "         33.75000763,  34.05000305,  34.3500061 ,  34.65000916,\n",
       "         34.95000458,  35.25000763,  35.55000305,  35.8500061 ,\n",
       "         36.15000916,  36.45000458,  36.75000763,  37.05000305,\n",
       "         37.3500061 ,  37.65000916,  37.95000458,  38.25000763,\n",
       "         38.55001068,  38.85001373,  39.15000153,  39.45000458,\n",
       "         39.75000763,  40.05001068,  40.35001373,  40.65000153,\n",
       "         40.95000458,  41.25000763,  41.55001068,  41.85001373,\n",
       "         42.15000153,  42.45000458,  42.75000763,  43.05001068,\n",
       "         43.35001373,  43.65000153,  43.95000458,  44.25000763,\n",
       "         44.55001068,  44.85001373,  45.15000153,  45.45000458,\n",
       "         45.75000763,  46.05001068,  46.35001373,  46.65000153,\n",
       "         46.95000458,  47.25000763,  47.55001068,  47.85001373,\n",
       "         48.15000153,  48.45000458,  48.75000763,  49.05001068,\n",
       "         49.35001373,  49.65000153,  49.95000458,  50.25000763,\n",
       "         50.55001068,  50.85001373,  51.15000153,  51.45000458,\n",
       "         51.75000763,  52.05001068,  52.35001373,  52.65000153,\n",
       "         52.95000458,  53.25000763,  53.55001068,  53.85001373,\n",
       "         54.15000153,  54.45000458,  54.75000763,  55.05001068,\n",
       "         55.35001373,  55.65000153,  55.95000458,  56.25000763,\n",
       "         56.55001068,  56.85001373,  57.15000153,  57.45000458,\n",
       "         57.75000763,  58.05001068,  58.35001373,  58.65000153,\n",
       "         58.95000458,  59.25000763,  59.55001068,  59.85001373,\n",
       "         60.15000153,  60.45000458,  60.75000763,  61.05001068,\n",
       "         61.35001373,  61.65000153,  61.95000458,  62.25000763,\n",
       "         62.55001068,  62.85001373,  63.15000153,  63.45000458,\n",
       "         63.75000763,  64.05001068,  64.35001373,  64.65000153,\n",
       "         64.95000458,  65.25000763,  65.55001068,  65.85001373,\n",
       "         66.15000153,  66.45000458,  66.75000763,  67.05001068,\n",
       "         67.35001373,  67.65000153,  67.95000458,  68.25000763,\n",
       "         68.55001068,  68.85001373,  69.15000153,  69.45000458,\n",
       "         69.75000763,  70.05001068,  70.35001373,  70.65000153,\n",
       "         70.95000458,  71.25000763,  71.55001068,  71.85001373,\n",
       "         72.15000153,  72.45000458,  72.75000763,  73.05001068,\n",
       "         73.35001373,  73.65000153,  73.95000458,  74.25000763,\n",
       "         74.55001068,  74.85001373,  75.15000153,  75.45000458,\n",
       "         75.75000763,  76.05001068,  76.35001373,  76.65000153,\n",
       "         76.95000458,  77.25000763,  77.55001068,  77.85001373,\n",
       "         78.15000153,  78.45000458,  78.75000763,  79.05001068,\n",
       "         79.35001373,  79.65000153,  79.95000458,  80.25000763,\n",
       "         80.55001068,  80.85001373,  81.15000153,  81.45000458,\n",
       "         81.75000763,  82.05001068,  82.35001373,  82.65000153,\n",
       "         82.95000458,  83.25000763,  83.55001068,  83.85001373,\n",
       "         84.15000153,  84.45000458,  84.75000763,  85.05001068,\n",
       "         85.35001373,  85.65000153,  85.95000458,  86.25000763,\n",
       "         86.55001068,  86.85001373,  87.15000153,  87.45000458,\n",
       "         87.75000763,  88.05001068,  88.35001373,  88.65000153,\n",
       "         88.95000458,  89.25000763,  89.55001068,  89.85001373], dtype=float32), standard_name='latitude', units=Unit('degrees'), coord_system=GeogCS(6371229.0)),\n",
       " DimCoord(array([  2.24999994e-01,   6.74999952e-01,   1.12500000e+00,\n",
       "          1.57499993e+00,   2.02499986e+00,   2.47499990e+00,\n",
       "          2.92499971e+00,   3.37499976e+00,   3.82499981e+00,\n",
       "          4.27499962e+00,   4.72499990e+00,   5.17499971e+00,\n",
       "          5.62499952e+00,   6.07499981e+00,   6.52499962e+00,\n",
       "          6.97499990e+00,   7.42499971e+00,   7.87499952e+00,\n",
       "          8.32499981e+00,   8.77500057e+00,   9.22500038e+00,\n",
       "          9.67500019e+00,   1.01250000e+01,   1.05749998e+01,\n",
       "          1.10249996e+01,   1.14750004e+01,   1.19250002e+01,\n",
       "          1.23750000e+01,   1.28249998e+01,   1.32749996e+01,\n",
       "          1.37250004e+01,   1.41750002e+01,   1.46250000e+01,\n",
       "          1.50749998e+01,   1.55249996e+01,   1.59750004e+01,\n",
       "          1.64249992e+01,   1.68750000e+01,   1.73250008e+01,\n",
       "          1.77749996e+01,   1.82250004e+01,   1.86749992e+01,\n",
       "          1.91250000e+01,   1.95750008e+01,   2.00249996e+01,\n",
       "          2.04750004e+01,   2.09249992e+01,   2.13750000e+01,\n",
       "          2.18249989e+01,   2.22749996e+01,   2.27250004e+01,\n",
       "          2.31749992e+01,   2.36250000e+01,   2.40749989e+01,\n",
       "          2.45249996e+01,   2.49750004e+01,   2.54249992e+01,\n",
       "          2.58750000e+01,   2.63249989e+01,   2.67749996e+01,\n",
       "          2.72250004e+01,   2.76749992e+01,   2.81250000e+01,\n",
       "          2.85749989e+01,   2.90249996e+01,   2.94750004e+01,\n",
       "          2.99249992e+01,   3.03750000e+01,   3.08249989e+01,\n",
       "          3.12749996e+01,   3.17250004e+01,   3.21749992e+01,\n",
       "          3.26249962e+01,   3.30749969e+01,   3.35249977e+01,\n",
       "          3.39749985e+01,   3.44249992e+01,   3.48749962e+01,\n",
       "          3.53249969e+01,   3.57749977e+01,   3.62249985e+01,\n",
       "          3.66749992e+01,   3.71249962e+01,   3.75749969e+01,\n",
       "          3.80249977e+01,   3.84749985e+01,   3.89249992e+01,\n",
       "          3.93749962e+01,   3.98249969e+01,   4.02749977e+01,\n",
       "          4.07249985e+01,   4.11749992e+01,   4.16249962e+01,\n",
       "          4.20749969e+01,   4.25249977e+01,   4.29749985e+01,\n",
       "          4.34249954e+01,   4.38749962e+01,   4.43249969e+01,\n",
       "          4.47749977e+01,   4.52249985e+01,   4.56749954e+01,\n",
       "          4.61249962e+01,   4.65749969e+01,   4.70249977e+01,\n",
       "          4.74749985e+01,   4.79249954e+01,   4.83749962e+01,\n",
       "          4.88249969e+01,   4.92749977e+01,   4.97249985e+01,\n",
       "          5.01749954e+01,   5.06249962e+01,   5.10749969e+01,\n",
       "          5.15249977e+01,   5.19749985e+01,   5.24249954e+01,\n",
       "          5.28749962e+01,   5.33249969e+01,   5.37749977e+01,\n",
       "          5.42249985e+01,   5.46749954e+01,   5.51249962e+01,\n",
       "          5.55749969e+01,   5.60249977e+01,   5.64749985e+01,\n",
       "          5.69249954e+01,   5.73749962e+01,   5.78249969e+01,\n",
       "          5.82749977e+01,   5.87249985e+01,   5.91749954e+01,\n",
       "          5.96249962e+01,   6.00749969e+01,   6.05249977e+01,\n",
       "          6.09749985e+01,   6.14249954e+01,   6.18749962e+01,\n",
       "          6.23249969e+01,   6.27749977e+01,   6.32249985e+01,\n",
       "          6.36749954e+01,   6.41250000e+01,   6.45749969e+01,\n",
       "          6.50249939e+01,   6.54749985e+01,   6.59249954e+01,\n",
       "          6.63750000e+01,   6.68249969e+01,   6.72749939e+01,\n",
       "          6.77249985e+01,   6.81749954e+01,   6.86250000e+01,\n",
       "          6.90749969e+01,   6.95249939e+01,   6.99749985e+01,\n",
       "          7.04249954e+01,   7.08750000e+01,   7.13249969e+01,\n",
       "          7.17749939e+01,   7.22249985e+01,   7.26749954e+01,\n",
       "          7.31250000e+01,   7.35749969e+01,   7.40249939e+01,\n",
       "          7.44749985e+01,   7.49249954e+01,   7.53750000e+01,\n",
       "          7.58249969e+01,   7.62749939e+01,   7.67249985e+01,\n",
       "          7.71749954e+01,   7.76250000e+01,   7.80749969e+01,\n",
       "          7.85249939e+01,   7.89749985e+01,   7.94249954e+01,\n",
       "          7.98750000e+01,   8.03249969e+01,   8.07749939e+01,\n",
       "          8.12249985e+01,   8.16749954e+01,   8.21250000e+01,\n",
       "          8.25749969e+01,   8.30249939e+01,   8.34749985e+01,\n",
       "          8.39249954e+01,   8.43750000e+01,   8.48249969e+01,\n",
       "          8.52749939e+01,   8.57249985e+01,   8.61749954e+01,\n",
       "          8.66249924e+01,   8.70749969e+01,   8.75249939e+01,\n",
       "          8.79749985e+01,   8.84249954e+01,   8.88749924e+01,\n",
       "          8.93249969e+01,   8.97749939e+01,   9.02249985e+01,\n",
       "          9.06749954e+01,   9.11249924e+01,   9.15749969e+01,\n",
       "          9.20249939e+01,   9.24749985e+01,   9.29249954e+01,\n",
       "          9.33749924e+01,   9.38249969e+01,   9.42749939e+01,\n",
       "          9.47249985e+01,   9.51749954e+01,   9.56249924e+01,\n",
       "          9.60749969e+01,   9.65249939e+01,   9.69749985e+01,\n",
       "          9.74249954e+01,   9.78749924e+01,   9.83249969e+01,\n",
       "          9.87749939e+01,   9.92249985e+01,   9.96749954e+01,\n",
       "          1.00124992e+02,   1.00574997e+02,   1.01024994e+02,\n",
       "          1.01474998e+02,   1.01924995e+02,   1.02374992e+02,\n",
       "          1.02824997e+02,   1.03274994e+02,   1.03724998e+02,\n",
       "          1.04174995e+02,   1.04624992e+02,   1.05074997e+02,\n",
       "          1.05524994e+02,   1.05974998e+02,   1.06424995e+02,\n",
       "          1.06874992e+02,   1.07324997e+02,   1.07774994e+02,\n",
       "          1.08224998e+02,   1.08674995e+02,   1.09124992e+02,\n",
       "          1.09574997e+02,   1.10024994e+02,   1.10474998e+02,\n",
       "          1.10924995e+02,   1.11374992e+02,   1.11824997e+02,\n",
       "          1.12274994e+02,   1.12724998e+02,   1.13174995e+02,\n",
       "          1.13624992e+02,   1.14074997e+02,   1.14524994e+02,\n",
       "          1.14974998e+02,   1.15424995e+02,   1.15874992e+02,\n",
       "          1.16324997e+02,   1.16774994e+02,   1.17224998e+02,\n",
       "          1.17674995e+02,   1.18124992e+02,   1.18574997e+02,\n",
       "          1.19024994e+02,   1.19474998e+02,   1.19924995e+02,\n",
       "          1.20374992e+02,   1.20824997e+02,   1.21274994e+02,\n",
       "          1.21724998e+02,   1.22174995e+02,   1.22624992e+02,\n",
       "          1.23074997e+02,   1.23524994e+02,   1.23974998e+02,\n",
       "          1.24424995e+02,   1.24874992e+02,   1.25324997e+02,\n",
       "          1.25774994e+02,   1.26224998e+02,   1.26674995e+02,\n",
       "          1.27124992e+02,   1.27574997e+02,   1.28024994e+02,\n",
       "          1.28475006e+02,   1.28925003e+02,   1.29375000e+02,\n",
       "          1.29824997e+02,   1.30275009e+02,   1.30725006e+02,\n",
       "          1.31175003e+02,   1.31625000e+02,   1.32074997e+02,\n",
       "          1.32525009e+02,   1.32975006e+02,   1.33425003e+02,\n",
       "          1.33875000e+02,   1.34324997e+02,   1.34775009e+02,\n",
       "          1.35225006e+02,   1.35675003e+02,   1.36125000e+02,\n",
       "          1.36574997e+02,   1.37025009e+02,   1.37475006e+02,\n",
       "          1.37925003e+02,   1.38375000e+02,   1.38824997e+02,\n",
       "          1.39275009e+02,   1.39725006e+02,   1.40175003e+02,\n",
       "          1.40625000e+02,   1.41074997e+02,   1.41525009e+02,\n",
       "          1.41975006e+02,   1.42425003e+02,   1.42875000e+02,\n",
       "          1.43324997e+02,   1.43775009e+02,   1.44225006e+02,\n",
       "          1.44675003e+02,   1.45125000e+02,   1.45574997e+02,\n",
       "          1.46025009e+02,   1.46475006e+02,   1.46925003e+02,\n",
       "          1.47375000e+02,   1.47824997e+02,   1.48275009e+02,\n",
       "          1.48725006e+02,   1.49175003e+02,   1.49625000e+02,\n",
       "          1.50074997e+02,   1.50525009e+02,   1.50975006e+02,\n",
       "          1.51425003e+02,   1.51875000e+02,   1.52324997e+02,\n",
       "          1.52775009e+02,   1.53225006e+02,   1.53675003e+02,\n",
       "          1.54125000e+02,   1.54574997e+02,   1.55025009e+02,\n",
       "          1.55475006e+02,   1.55925003e+02,   1.56375000e+02,\n",
       "          1.56824997e+02,   1.57275009e+02,   1.57725006e+02,\n",
       "          1.58175003e+02,   1.58625000e+02,   1.59074997e+02,\n",
       "          1.59525009e+02,   1.59975006e+02,   1.60425003e+02,\n",
       "          1.60875000e+02,   1.61324997e+02,   1.61775009e+02,\n",
       "          1.62225006e+02,   1.62675003e+02,   1.63125000e+02,\n",
       "          1.63574997e+02,   1.64025009e+02,   1.64475006e+02,\n",
       "          1.64925003e+02,   1.65375000e+02,   1.65824997e+02,\n",
       "          1.66275009e+02,   1.66725006e+02,   1.67175003e+02,\n",
       "          1.67625000e+02,   1.68074997e+02,   1.68525009e+02,\n",
       "          1.68975006e+02,   1.69425003e+02,   1.69875000e+02,\n",
       "          1.70324997e+02,   1.70775009e+02,   1.71225006e+02,\n",
       "          1.71675003e+02,   1.72125000e+02,   1.72574997e+02,\n",
       "          1.73024994e+02,   1.73475006e+02,   1.73925003e+02,\n",
       "          1.74375000e+02,   1.74824997e+02,   1.75274994e+02,\n",
       "          1.75725006e+02,   1.76175003e+02,   1.76625000e+02,\n",
       "          1.77074997e+02,   1.77524994e+02,   1.77975006e+02,\n",
       "          1.78425003e+02,   1.78875000e+02,   1.79324997e+02,\n",
       "          1.79774994e+02,   1.80225006e+02,   1.80675003e+02,\n",
       "          1.81125000e+02,   1.81574997e+02,   1.82024994e+02,\n",
       "          1.82475006e+02,   1.82925003e+02,   1.83375000e+02,\n",
       "          1.83824997e+02,   1.84274994e+02,   1.84725006e+02,\n",
       "          1.85175003e+02,   1.85625000e+02,   1.86074997e+02,\n",
       "          1.86524994e+02,   1.86975006e+02,   1.87425003e+02,\n",
       "          1.87875000e+02,   1.88324997e+02,   1.88774994e+02,\n",
       "          1.89225006e+02,   1.89675003e+02,   1.90125000e+02,\n",
       "          1.90574997e+02,   1.91024994e+02,   1.91475006e+02,\n",
       "          1.91925003e+02,   1.92375000e+02,   1.92824997e+02,\n",
       "          1.93274994e+02,   1.93725006e+02,   1.94175003e+02,\n",
       "          1.94625000e+02,   1.95074997e+02,   1.95524994e+02,\n",
       "          1.95975006e+02,   1.96425003e+02,   1.96875000e+02,\n",
       "          1.97324997e+02,   1.97774994e+02,   1.98225006e+02,\n",
       "          1.98675003e+02,   1.99125000e+02,   1.99574997e+02,\n",
       "          2.00024994e+02,   2.00475006e+02,   2.00925003e+02,\n",
       "          2.01375000e+02,   2.01824997e+02,   2.02274994e+02,\n",
       "          2.02725006e+02,   2.03175003e+02,   2.03625000e+02,\n",
       "          2.04074997e+02,   2.04524994e+02,   2.04975006e+02,\n",
       "          2.05425003e+02,   2.05875000e+02,   2.06324997e+02,\n",
       "          2.06774994e+02,   2.07225006e+02,   2.07675003e+02,\n",
       "          2.08125000e+02,   2.08574997e+02,   2.09024994e+02,\n",
       "          2.09475006e+02,   2.09925003e+02,   2.10375000e+02,\n",
       "          2.10824997e+02,   2.11274994e+02,   2.11725006e+02,\n",
       "          2.12175003e+02,   2.12625000e+02,   2.13074997e+02,\n",
       "          2.13524994e+02,   2.13975006e+02,   2.14425003e+02,\n",
       "          2.14875000e+02,   2.15324997e+02,   2.15774994e+02,\n",
       "          2.16225006e+02,   2.16675003e+02,   2.17125000e+02,\n",
       "          2.17574997e+02,   2.18024994e+02,   2.18475006e+02,\n",
       "          2.18925003e+02,   2.19375000e+02,   2.19824997e+02,\n",
       "          2.20274994e+02,   2.20725006e+02,   2.21175003e+02,\n",
       "          2.21625000e+02,   2.22074997e+02,   2.22524994e+02,\n",
       "          2.22975006e+02,   2.23425003e+02,   2.23875000e+02,\n",
       "          2.24324997e+02,   2.24774994e+02,   2.25225006e+02,\n",
       "          2.25675003e+02,   2.26125000e+02,   2.26574997e+02,\n",
       "          2.27024994e+02,   2.27475006e+02,   2.27925003e+02,\n",
       "          2.28375000e+02,   2.28824997e+02,   2.29274994e+02,\n",
       "          2.29725006e+02,   2.30175003e+02,   2.30625000e+02,\n",
       "          2.31074997e+02,   2.31524994e+02,   2.31975006e+02,\n",
       "          2.32425003e+02,   2.32875000e+02,   2.33324997e+02,\n",
       "          2.33774994e+02,   2.34225006e+02,   2.34675003e+02,\n",
       "          2.35125000e+02,   2.35574997e+02,   2.36024994e+02,\n",
       "          2.36475006e+02,   2.36925003e+02,   2.37375000e+02,\n",
       "          2.37824997e+02,   2.38274994e+02,   2.38725006e+02,\n",
       "          2.39175003e+02,   2.39625000e+02,   2.40074997e+02,\n",
       "          2.40524994e+02,   2.40975006e+02,   2.41425003e+02,\n",
       "          2.41875000e+02,   2.42324997e+02,   2.42774994e+02,\n",
       "          2.43225006e+02,   2.43675003e+02,   2.44125000e+02,\n",
       "          2.44574997e+02,   2.45024994e+02,   2.45475006e+02,\n",
       "          2.45925003e+02,   2.46375000e+02,   2.46824997e+02,\n",
       "          2.47274994e+02,   2.47725006e+02,   2.48175003e+02,\n",
       "          2.48625000e+02,   2.49074997e+02,   2.49524994e+02,\n",
       "          2.49975006e+02,   2.50425003e+02,   2.50875000e+02,\n",
       "          2.51324997e+02,   2.51774994e+02,   2.52225006e+02,\n",
       "          2.52675003e+02,   2.53125000e+02,   2.53574997e+02,\n",
       "          2.54024994e+02,   2.54475006e+02,   2.54925003e+02,\n",
       "          2.55375000e+02,   2.55824997e+02,   2.56274994e+02,\n",
       "          2.56725006e+02,   2.57174988e+02,   2.57625000e+02,\n",
       "          2.58075012e+02,   2.58524994e+02,   2.58975006e+02,\n",
       "          2.59424988e+02,   2.59875000e+02,   2.60325012e+02,\n",
       "          2.60774994e+02,   2.61225006e+02,   2.61674988e+02,\n",
       "          2.62125000e+02,   2.62575012e+02,   2.63024994e+02,\n",
       "          2.63475006e+02,   2.63924988e+02,   2.64375000e+02,\n",
       "          2.64825012e+02,   2.65274994e+02,   2.65725006e+02,\n",
       "          2.66174988e+02,   2.66625000e+02,   2.67075012e+02,\n",
       "          2.67524994e+02,   2.67975006e+02,   2.68424988e+02,\n",
       "          2.68875000e+02,   2.69325012e+02,   2.69774994e+02,\n",
       "          2.70225006e+02,   2.70674988e+02,   2.71125000e+02,\n",
       "          2.71575012e+02,   2.72024994e+02,   2.72475006e+02,\n",
       "          2.72924988e+02,   2.73375000e+02,   2.73825012e+02,\n",
       "          2.74274994e+02,   2.74725006e+02,   2.75174988e+02,\n",
       "          2.75625000e+02,   2.76075012e+02,   2.76524994e+02,\n",
       "          2.76975006e+02,   2.77424988e+02,   2.77875000e+02,\n",
       "          2.78325012e+02,   2.78774994e+02,   2.79225006e+02,\n",
       "          2.79674988e+02,   2.80125000e+02,   2.80575012e+02,\n",
       "          2.81024994e+02,   2.81475006e+02,   2.81924988e+02,\n",
       "          2.82375000e+02,   2.82825012e+02,   2.83274994e+02,\n",
       "          2.83725006e+02,   2.84174988e+02,   2.84625000e+02,\n",
       "          2.85075012e+02,   2.85524994e+02,   2.85975006e+02,\n",
       "          2.86424988e+02,   2.86875000e+02,   2.87325012e+02,\n",
       "          2.87774994e+02,   2.88225006e+02,   2.88674988e+02,\n",
       "          2.89125000e+02,   2.89575012e+02,   2.90024994e+02,\n",
       "          2.90475006e+02,   2.90924988e+02,   2.91375000e+02,\n",
       "          2.91825012e+02,   2.92274994e+02,   2.92725006e+02,\n",
       "          2.93174988e+02,   2.93625000e+02,   2.94075012e+02,\n",
       "          2.94524994e+02,   2.94975006e+02,   2.95424988e+02,\n",
       "          2.95875000e+02,   2.96325012e+02,   2.96774994e+02,\n",
       "          2.97225006e+02,   2.97674988e+02,   2.98125000e+02,\n",
       "          2.98575012e+02,   2.99024994e+02,   2.99475006e+02,\n",
       "          2.99924988e+02,   3.00375000e+02,   3.00825012e+02,\n",
       "          3.01274994e+02,   3.01725006e+02,   3.02174988e+02,\n",
       "          3.02625000e+02,   3.03075012e+02,   3.03524994e+02,\n",
       "          3.03975006e+02,   3.04424988e+02,   3.04875000e+02,\n",
       "          3.05325012e+02,   3.05774994e+02,   3.06225006e+02,\n",
       "          3.06674988e+02,   3.07125000e+02,   3.07575012e+02,\n",
       "          3.08024994e+02,   3.08475006e+02,   3.08924988e+02,\n",
       "          3.09375000e+02,   3.09825012e+02,   3.10274994e+02,\n",
       "          3.10725006e+02,   3.11174988e+02,   3.11625000e+02,\n",
       "          3.12075012e+02,   3.12524994e+02,   3.12975006e+02,\n",
       "          3.13424988e+02,   3.13875000e+02,   3.14325012e+02,\n",
       "          3.14774994e+02,   3.15225006e+02,   3.15674988e+02,\n",
       "          3.16125000e+02,   3.16575012e+02,   3.17024994e+02,\n",
       "          3.17475006e+02,   3.17924988e+02,   3.18375000e+02,\n",
       "          3.18825012e+02,   3.19274994e+02,   3.19725006e+02,\n",
       "          3.20174988e+02,   3.20625000e+02,   3.21075012e+02,\n",
       "          3.21524994e+02,   3.21975006e+02,   3.22424988e+02,\n",
       "          3.22875000e+02,   3.23325012e+02,   3.23774994e+02,\n",
       "          3.24225006e+02,   3.24674988e+02,   3.25125000e+02,\n",
       "          3.25575012e+02,   3.26024994e+02,   3.26475006e+02,\n",
       "          3.26924988e+02,   3.27375000e+02,   3.27825012e+02,\n",
       "          3.28274994e+02,   3.28725006e+02,   3.29174988e+02,\n",
       "          3.29625000e+02,   3.30075012e+02,   3.30524994e+02,\n",
       "          3.30975006e+02,   3.31424988e+02,   3.31875000e+02,\n",
       "          3.32325012e+02,   3.32774994e+02,   3.33225006e+02,\n",
       "          3.33674988e+02,   3.34125000e+02,   3.34575012e+02,\n",
       "          3.35024994e+02,   3.35475006e+02,   3.35924988e+02,\n",
       "          3.36375000e+02,   3.36825012e+02,   3.37274994e+02,\n",
       "          3.37725006e+02,   3.38174988e+02,   3.38625000e+02,\n",
       "          3.39075012e+02,   3.39524994e+02,   3.39975006e+02,\n",
       "          3.40424988e+02,   3.40875000e+02,   3.41325012e+02,\n",
       "          3.41774994e+02,   3.42225006e+02,   3.42674988e+02,\n",
       "          3.43125000e+02,   3.43575012e+02,   3.44024994e+02,\n",
       "          3.44475006e+02,   3.44924988e+02,   3.45375000e+02,\n",
       "          3.45824982e+02,   3.46274994e+02,   3.46725006e+02,\n",
       "          3.47174988e+02,   3.47625000e+02,   3.48074982e+02,\n",
       "          3.48524994e+02,   3.48975006e+02,   3.49424988e+02,\n",
       "          3.49875000e+02,   3.50324982e+02,   3.50774994e+02,\n",
       "          3.51225006e+02,   3.51674988e+02,   3.52125000e+02,\n",
       "          3.52574982e+02,   3.53024994e+02,   3.53475006e+02,\n",
       "          3.53924988e+02,   3.54375000e+02,   3.54824982e+02,\n",
       "          3.55274994e+02,   3.55725006e+02,   3.56174988e+02,\n",
       "          3.56625000e+02,   3.57074982e+02,   3.57524994e+02,\n",
       "          3.57975006e+02,   3.58424988e+02,   3.58875000e+02,\n",
       "          3.59324982e+02,   3.59774994e+02], dtype=float32), standard_name='longitude', units=Unit('degrees'), coord_system=GeogCS(6371229.0), circular=True),\n",
       " DimCoord(array([ 411312.,  411315.]), standard_name='time', units=Unit('hours since 1970-01-01 00:00:00', calendar='gregorian')),\n",
       " DimCoord(array([ 850.,  500.,  250.], dtype=float32), standard_name=None, units=Unit('hPa'), long_name='pressure')]"
      ]
     },
     "execution_count": 78,
     "metadata": {},
     "output_type": "execute_result"
    }
   ],
   "source": [
    "extract_overlapping(subd, [\"latitude\", \"longitude\", \"time\", \"pressure\"])"
   ]
  },
  {
   "cell_type": "code",
   "execution_count": 76,
   "metadata": {
    "collapsed": false
   },
   "outputs": [
    {
     "data": {
      "text/plain": [
       "'a'"
      ]
     },
     "execution_count": 76,
     "metadata": {},
     "output_type": "execute_result"
    }
   ],
   "source": [
    "keys = list({'a':'A'}.keys())\n",
    "keys[0]\n"
   ]
  }
 ],
 "metadata": {
  "kernelspec": {
   "display_name": "Python 3",
   "language": "python",
   "name": "python3"
  },
  "language_info": {
   "codemirror_mode": {
    "name": "ipython",
    "version": 3
   },
   "file_extension": ".py",
   "mimetype": "text/x-python",
   "name": "python",
   "nbconvert_exporter": "python",
   "pygments_lexer": "ipython3",
   "version": "3.5.2"
  }
 },
 "nbformat": 4,
 "nbformat_minor": 1
}
