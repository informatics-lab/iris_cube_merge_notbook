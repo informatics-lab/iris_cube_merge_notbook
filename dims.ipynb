{
 "cells": [
  {
   "cell_type": "markdown",
   "metadata": {},
   "source": [
    "# Note book looking at options for sorting and making unique cells\n",
    "\n",
    "Cells don't hash but do equate. This note book looks at options for sorting and making a unique list of these Cells."
   ]
  },
  {
   "cell_type": "code",
   "execution_count": 45,
   "metadata": {
    "collapsed": true
   },
   "outputs": [],
   "source": [
    "from operator import attrgetter\n",
    "import random\n",
    "import cProfile"
   ]
  },
  {
   "cell_type": "code",
   "execution_count": 4,
   "metadata": {
    "collapsed": false
   },
   "outputs": [],
   "source": [
    "cube1 = [{'name':'time','vals':[1]},{'name':'place', 'vals':[1,2,3]}]\n",
    "cube2 = [{'name':'time','vals':[2]},{'name':'place', 'vals':[1,2,3]}]"
   ]
  },
  {
   "cell_type": "code",
   "execution_count": 7,
   "metadata": {
    "collapsed": false
   },
   "outputs": [
    {
     "data": {
      "text/plain": [
       "{'place': [], 'time': []}"
      ]
     },
     "execution_count": 7,
     "metadata": {},
     "output_type": "execute_result"
    }
   ],
   "source": [
    "def merge(cubes, names):\n",
    "    newcube = {name:[] for name in names }\n",
    "     \n",
    "    return newcube\n",
    "\n",
    "merge([cube1, cube2], ['time','place'])"
   ]
  },
  {
   "cell_type": "code",
   "execution_count": 40,
   "metadata": {
    "collapsed": false
   },
   "outputs": [
    {
     "data": {
      "text/plain": [
       "[1, 1, 2, 3, 5]"
      ]
     },
     "execution_count": 40,
     "metadata": {},
     "output_type": "execute_result"
    }
   ],
   "source": [
    "\n",
    "class Cell(object):\n",
    "    def __init__(self, val):\n",
    "        self.val = val\n",
    "    def __repr__(self):\n",
    "        return \"Cell(%s)\" % self.val\n",
    "    def __eq__(self, other):\n",
    "        return self.val == other.val\n",
    "    \"\"\"\n",
    "    def __gt__(self, other):\n",
    "        return self.val > other.val\n",
    "    def __lt__(self,other):\n",
    "        return self.val < other.val\n",
    "        \"\"\"\n",
    "    \n",
    "[c.val for c in sorted([Cell(1), Cell(2), Cell(3), Cell(1), Cell(5)], key=attrgetter('val'))]\n"
   ]
  },
  {
   "cell_type": "code",
   "execution_count": 41,
   "metadata": {
    "collapsed": true
   },
   "outputs": [],
   "source": [
    "def get_some(n, numtypes=50):\n",
    "    return [Cell(random.randint(0,numtypes)) for _ in range(n)]\n",
    "\n"
   ]
  },
  {
   "cell_type": "code",
   "execution_count": 55,
   "metadata": {
    "collapsed": true
   },
   "outputs": [],
   "source": [
    "class HashWrap(object):\n",
    "    def __init__(self, v):\n",
    "        self.val = v\n",
    "\n",
    "    def __eq__(self, other):\n",
    "        return self.val == other.val\n",
    "\n",
    "    def __hash__(self):\n",
    "        return self.val.val\n",
    "\n",
    "    def __repr__(self):\n",
    "        return 'HashWrap(%s)' % self.val\n",
    "    \n"
   ]
  },
  {
   "cell_type": "code",
   "execution_count": 42,
   "metadata": {
    "collapsed": true
   },
   "outputs": [],
   "source": [
    "items = get_some(100,30)"
   ]
  },
  {
   "cell_type": "code",
   "execution_count": 49,
   "metadata": {
    "collapsed": false
   },
   "outputs": [],
   "source": [
    "def sort_and_unique(items):\n",
    "    sorted_items = sorted(items, key=attrgetter('val'))\n",
    "    return [sorted_items[0]] + [sorted_items[i + 1] for i in range(len(sorted_items) -1) if not sorted_items[i + 1] == sorted_items[i] ]\n",
    "\n"
   ]
  },
  {
   "cell_type": "code",
   "execution_count": 54,
   "metadata": {
    "collapsed": false
   },
   "outputs": [
    {
     "name": "stdout",
     "output_type": "stream",
     "text": [
      "         10000006 function calls in 18.714 seconds\n",
      "\n",
      "   Ordered by: standard name\n",
      "\n",
      "   ncalls  tottime  percall  cumtime  percall filename:lineno(function)\n",
      "  9999999    5.531    0.000    5.531    0.000 <ipython-input-40-3395f0f7f5ab>:7(__eq__)\n",
      "        1    0.000    0.000   18.435   18.435 <ipython-input-49-e8d2e16975b5>:1(sort_and_unique)\n",
      "        1    7.025    7.025   12.556   12.556 <ipython-input-49-e8d2e16975b5>:3(<listcomp>)\n",
      "        1    0.280    0.280   18.714   18.714 <string>:1(<module>)\n",
      "        1    0.000    0.000   18.714   18.714 {built-in method builtins.exec}\n",
      "        1    0.000    0.000    0.000    0.000 {built-in method builtins.len}\n",
      "        1    5.879    5.879    5.879    5.879 {built-in method builtins.sorted}\n",
      "        1    0.000    0.000    0.000    0.000 {method 'disable' of '_lsprof.Profiler' objects}\n",
      "\n",
      "\n"
     ]
    }
   ],
   "source": [
    "items = get_some(10000000,1000)\n",
    "cProfile.run('sort_and_unique(items)')\n"
   ]
  },
  {
   "cell_type": "code",
   "execution_count": 63,
   "metadata": {
    "collapsed": false
   },
   "outputs": [
    {
     "name": "stdout",
     "output_type": "stream",
     "text": [
      "         49998003 function calls in 38.951 seconds\n",
      "\n",
      "   Ordered by: standard name\n",
      "\n",
      "   ncalls  tottime  percall  cumtime  percall filename:lineno(function)\n",
      "  9998999    3.294    0.000    3.294    0.000 <ipython-input-40-3395f0f7f5ab>:7(__eq__)\n",
      " 10000000    3.359    0.000    3.359    0.000 <ipython-input-55-fdcd7945b7d1>:2(__init__)\n",
      "  9998999    7.054    0.000   10.349    0.000 <ipython-input-55-fdcd7945b7d1>:5(__eq__)\n",
      " 10000000    3.614    0.000    3.614    0.000 <ipython-input-55-fdcd7945b7d1>:8(__hash__)\n",
      "        1   13.736   13.736   38.951   38.951 <ipython-input-63-06a1ad9a7034>:1(wrap_and_set)\n",
      " 10000001    7.893    0.000   11.252    0.000 <ipython-input-63-06a1ad9a7034>:2(<genexpr>)\n",
      "        1    0.000    0.000   38.951   38.951 <string>:1(<module>)\n",
      "        1    0.000    0.000   38.951   38.951 {built-in method builtins.exec}\n",
      "        1    0.000    0.000    0.000    0.000 {method 'disable' of '_lsprof.Profiler' objects}\n",
      "\n",
      "\n"
     ]
    }
   ],
   "source": [
    "def wrap_and_set(items):\n",
    "    return set(HashWrap(item) for item in items)\n",
    "\n",
    "items = get_some(10000000,1000)\n",
    "cProfile.run('wrap_and_set(items)')"
   ]
  }
 ],
 "metadata": {
  "kernelspec": {
   "display_name": "Python 3",
   "language": "python",
   "name": "python3"
  },
  "language_info": {
   "codemirror_mode": {
    "name": "ipython",
    "version": 3
   },
   "file_extension": ".py",
   "mimetype": "text/x-python",
   "name": "python",
   "nbconvert_exporter": "python",
   "pygments_lexer": "ipython3",
   "version": "3.5.2"
  }
 },
 "nbformat": 4,
 "nbformat_minor": 1
}
